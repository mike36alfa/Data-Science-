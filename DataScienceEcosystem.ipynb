{
 "cells": [
  {
   "cell_type": "markdown",
   "id": "86e07946-ce62-4166-bf3e-0989b853f09d",
   "metadata": {},
   "source": [
    "Data Science Tools and Ecosystem"
   ]
  },
  {
   "cell_type": "markdown",
   "id": "49966fd7-0cde-4fdd-9aea-5dbd4f1575b1",
   "metadata": {},
   "source": [
    "In this notebook, Data Science Tools and Ecosystem are summarized."
   ]
  },
  {
   "cell_type": "markdown",
   "id": "63bae5af-22f9-4c60-a587-4e917414dab6",
   "metadata": {},
   "source": [
    "Some of the popular languages that Data Scientists use are:\n",
    "-Python\n",
    "-R\n",
    "-SQL\n",
    "-Javascript\n",
    "-C++"
   ]
  },
  {
   "cell_type": "markdown",
   "id": "49f979a2-9169-4596-b1cc-07c4885bb3f3",
   "metadata": {},
   "source": [
    "Some of the common libraries used by data scientists include: \n",
    "- Numpy\n",
    "- Fairseq\n",
    "- Matplotlib\n",
    "- TensorFlow\n",
    "- Pandas"
   ]
  },
  {
   "cell_type": "markdown",
   "id": "12ee223d-50b4-4870-9c19-1b9169d14a3a",
   "metadata": {},
   "source": [
    "| Data Science Tools | \n",
    "|:--------:|\n",
    "|  Jupyter  |  \n",
    "|  R Studio  |  \n",
    "|  VS Studio   |"
   ]
  },
  {
   "cell_type": "markdown",
   "id": "13f47a71-6e13-4bca-98e3-62c9edb2ddf4",
   "metadata": {},
   "source": [
    "Below are a few examples of evaluating arithmetic expressions in Python."
   ]
  },
  {
   "cell_type": "code",
   "execution_count": 1,
   "id": "cc4734e9-63da-4343-a5e5-4098af2eee09",
   "metadata": {},
   "outputs": [
    {
     "data": {
      "text/plain": [
       "17"
      ]
     },
     "execution_count": 1,
     "metadata": {},
     "output_type": "execute_result"
    }
   ],
   "source": [
    "#This a simple arithmetic expression to mutiply then add integers\n",
    "(3*4)+5"
   ]
  },
  {
   "cell_type": "code",
   "execution_count": 5,
   "id": "a01a4aa9-8ab2-4a3c-b8cf-c58a47ce6731",
   "metadata": {},
   "outputs": [
    {
     "name": "stdin",
     "output_type": "stream",
     "text": [
      "enter minutes 200\n"
     ]
    },
    {
     "name": "stdout",
     "output_type": "stream",
     "text": [
      "3.3333333333333335\n"
     ]
    }
   ],
   "source": [
    "#This will convert 200 minutes to hours by diving by 60\n",
    "min = int(input(\"enter minutes\"))\n",
    "hours = min/60\n",
    "print (hours)"
   ]
  },
  {
   "cell_type": "markdown",
   "id": "a93f518a-2cec-4b95-8806-b95c25b5cafc",
   "metadata": {},
   "source": [
    "**OBJECTIVES:**\n",
    "- List popular langauges\n",
    "- List common libraries\n",
    "- List common tools"
   ]
  },
  {
   "cell_type": "markdown",
   "id": "ee62f70e-324a-4aa9-bb67-0690630359c5",
   "metadata": {},
   "source": [
    "Author - Mike Rogers"
   ]
  }
 ],
 "metadata": {
  "kernelspec": {
   "display_name": "Python [conda env:base] *",
   "language": "python",
   "name": "conda-base-py"
  },
  "language_info": {
   "codemirror_mode": {
    "name": "ipython",
    "version": 3
   },
   "file_extension": ".py",
   "mimetype": "text/x-python",
   "name": "python",
   "nbconvert_exporter": "python",
   "pygments_lexer": "ipython3",
   "version": "3.12.7"
  }
 },
 "nbformat": 4,
 "nbformat_minor": 5
}
